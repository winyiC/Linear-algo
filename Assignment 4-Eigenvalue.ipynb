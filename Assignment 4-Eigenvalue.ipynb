{
 "cells": [
  {
   "cell_type": "code",
   "execution_count": 1,
   "outputs": [
    {
     "name": "stdout",
     "output_type": "stream",
     "text": [
      "[[ 2.9766  0.3945  0.4198  1.1159]\n",
      " [ 0.3945  2.7328 -0.3097  0.1129]\n",
      " [ 0.4198 -0.3097  2.5675  0.6079]\n",
      " [ 1.1159  0.1129  0.6079  1.7231]]\n"
     ]
    }
   ],
   "source": [
    "import numpy as np\n",
    "import pandas as pd\n",
    "#Method 1 Rayleigh_Quotient_iteration\n",
    "def Rayleigh_Quotient_iteration(A, v0):\n",
    "    # get x=(A-mu*I).Inv*x0/||(A-mu*I).Inv*x0||\n",
    "    x_prev = v0\n",
    "    iteration = 0\n",
    "    I = np.identity(A.shape[0])\n",
    "\n",
    "    err = 1\n",
    "    lam_i = (x_prev.T @ A @ x_prev) / (x_prev.T @ x_prev)\n",
    "    #iterations range is 1 to 20\n",
    "    for i in range(20):\n",
    "\n",
    "        iteration = iteration + 1\n",
    "        y = np.linalg.inv(A - lam_i * I) @ x_prev\n",
    "        #eigenvector with normalization\n",
    "        x = y / np.linalg.norm(y, ord=np.inf)\n",
    "        #eigenvalue by using rayleigh quotient\n",
    "        lam = (x_prev.T @ A @ x_prev) / (x_prev.T @ x_prev)\n",
    "        #apply:err=(x1-x0)/x1\n",
    "        err = np.linalg.norm((A @ x - lam * x) / (A @ x))\n",
    "        #tolerance 0.0001\n",
    "        if err < 0.0001:\n",
    "            break\n",
    "        x_prev = x\n",
    "        lam_i = lam\n",
    "\n",
    "        #print(iteration)\n",
    "    return x, lam, iteration\n",
    "\n",
    "\n",
    "A = np.array([[2.9766, 0.3945, 0.4198, 1.1159],\n",
    "              [0.3945, 2.7328, -0.3097, 0.1129],\n",
    "              [0.4198, -0.3097, 2.5675, 0.6079],\n",
    "              [1.1159, 0.1129, 0.6079, 1.7231]])\n",
    "print(A)\n",
    "data=[]\n",
    "#run for four different assume vectors\n",
    "for i in range(4):\n",
    "    v0 = np.zeros(4)\n",
    "    v0[i] = 1\n",
    "    v = v0.copy()\n",
    "    v0 = v0.reshape(-1, 1)\n",
    "    #print(v0)\n",
    "\n",
    "    eigenvector, eigenvalue, iterations = Rayleigh_Quotient_iteration(A, v0)\n",
    "    data.append([i, v0.T, eigenvector.T, eigenvalue, iterations])\n",
    "\n",
    "df=pd.DataFrame(data,columns=['#','Starting Vector','Eigenvector','Eigenvalue','Num. of Iterations'])\n",
    "df.to_csv('eigentable.csv',index=False)"
   ],
   "metadata": {
    "collapsed": false
   }
  },
  {
   "cell_type": "code",
   "execution_count": 218,
   "outputs": [
    {
     "name": "stdout",
     "output_type": "stream",
     "text": [
      "A = [[ 2.9766  0.3945  0.4198  1.1159]\n",
      " [ 0.3945  2.7328 -0.3097  0.1129]\n",
      " [ 0.4198 -0.3097  2.5675  0.6079]\n",
      " [ 1.1159  0.1129  0.6079  1.7231]]\n",
      "The eigen values are: [3.999965 2.999936 2.000115 0.999984]\n",
      "The number of iterations for the convergence is 10\n"
     ]
    }
   ],
   "source": [
    "#Method QR_iteration:Gram_Schmidt\n",
    "def Gram_Schmidt_QR_factor(A):\n",
    "    r=A.shape[0]\n",
    "    n=A.shape[1]\n",
    "    q=A.copy()\n",
    "    r=np.identity(n)\n",
    "    for k in range(n):\n",
    "        #qk=a[:,k]\n",
    "        for j in range(k):\n",
    "            r[j,k]=q[:,j].T@A[:,k]\n",
    "            q[:,k]=q[:,k]-r[j,k]*q[:,j]\n",
    "        #normalized q[:,k]\n",
    "        r[k,k]=np.linalg.norm(q[:,k],2)\n",
    "        #print(f'{k}time:{r[k,k]}')\n",
    "        if r[k,k] ==0:\n",
    "            continue\n",
    "\n",
    "        q[:,k]=q[:,k]/r[k,k]\n",
    "    #print(q)\n",
    "    return q,r\n",
    "q,r=Gram_Schmidt_QR_factor(A)\n",
    "def Q_R_Iteration(A):\n",
    "#use Q@R=Ak, Ak+1=R@Q\n",
    "    for i in range(20):\n",
    "        Q,R=Gram_Schmidt_QR_factor(A)\n",
    "        A_new=np.dot(R,Q)\n",
    "        #obtian the err\n",
    "        old_eign=np.around(np.diagonal(A),decimals=6)\n",
    "        new_eign=np.around(np.diagonal(A_new),decimals=6)\n",
    "\n",
    "        err=np.linalg.norm((new_eign-old_eign)/new_eign)\n",
    "        #break condition\n",
    "        if err<0.0001:\n",
    "            break\n",
    "        #loop back to A and old_eign\n",
    "        A=A_new\n",
    "        old_eign=new_eign\n",
    "    return new_eign,i\n",
    "\n",
    "\n",
    "new_eign,i=Q_R_Iteration(A)\n",
    "print(f'A = {A}')\n",
    "print(f'The eigen values are: {new_eign}')\n",
    "print(f'The number of iterations for the convergence is {i}')"
   ],
   "metadata": {
    "collapsed": false
   }
  },
  {
   "cell_type": "code",
   "execution_count": null,
   "outputs": [],
   "source": [],
   "metadata": {
    "collapsed": false
   }
  }
 ],
 "metadata": {
  "kernelspec": {
   "display_name": "Python 3",
   "language": "python",
   "name": "python3"
  },
  "language_info": {
   "codemirror_mode": {
    "name": "ipython",
    "version": 2
   },
   "file_extension": ".py",
   "mimetype": "text/x-python",
   "name": "python",
   "nbconvert_exporter": "python",
   "pygments_lexer": "ipython2",
   "version": "2.7.6"
  }
 },
 "nbformat": 4,
 "nbformat_minor": 0
}
