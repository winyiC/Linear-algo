{
 "cells": [
  {
   "cell_type": "markdown",
   "source": [
    "Assignment 5: Design the Newton's algorithm to determine the roots of (x-2)^2 +4x-8=0,\n",
    "x  in range [0,4]\n",
    "The output :k, xk, f(x), f'(x),hk\n",
    "Tolerance le-5"
   ],
   "metadata": {
    "collapsed": false
   }
  },
  {
   "cell_type": "code",
   "execution_count": 1,
   "outputs": [
    {
     "name": "stdout",
     "output_type": "stream",
     "text": [
      "x= 4\n",
      "\tk \t\t\t x\t\t f_x(x) \t\tf_x_prime(x) \t\t\th\n",
      "\t0\t\t 4.00000\t\t12.000000\t\t8.00001\t\t\t-1.499998\n",
      "\t1\t\t 2.50000\t\t2.250009\t\t5.00001\t\t\t-0.450001\n",
      "\t2\t\t 2.05000\t\t0.202505\t\t4.10001\t\t\t-0.049391\n",
      "\t3\t\t 2.00061\t\t0.002440\t\t4.00123\t\t\t-0.000610\n",
      "\t4\t\t 2.00000\t\t0.000000\t\t4.00001\t\t\t-0.000000\n",
      "x= 3\n",
      "\tk \t\t\t x\t\t f_x(x) \t\tf_x_prime(x) \t\t\th\n",
      "\t0\t\t 3.00000\t\t5.000000\t\t6.00001\t\t\t-0.833332\n",
      "\t1\t\t 2.16667\t\t0.694450\t\t4.33335\t\t\t-0.160257\n",
      "\t2\t\t 2.00641\t\t0.025684\t\t4.01283\t\t\t-0.006400\n",
      "\t3\t\t 2.00001\t\t0.000041\t\t4.00003\t\t\t-0.000010\n",
      "x= 2\n",
      "\tk \t\t\t x\t\t f_x(x) \t\tf_x_prime(x) \t\t\th\n",
      "\t0\t\t 2.00000\t\t0.000000\t\t4.00001\t\t\t0.000000\n",
      "x= 1\n",
      "\tk \t\t\t x\t\t f_x(x) \t\tf_x_prime(x) \t\t\th\n",
      "\t0\t\t 1.00000\t\t-3.000000\t\t2.00001\t\t\t1.499993\n",
      "\t1\t\t 2.49999\t\t2.249963\t\t5.00000\t\t\t-0.449993\n",
      "\t2\t\t 2.05000\t\t0.202498\t\t4.10001\t\t\t-0.049390\n",
      "\t3\t\t 2.00061\t\t0.002440\t\t4.00123\t\t\t-0.000610\n",
      "\t4\t\t 2.00000\t\t0.000000\t\t4.00001\t\t\t-0.000000\n"
     ]
    }
   ],
   "source": [
    "import numpy as np\n",
    "import pandas as pd\n",
    "\n",
    "#get f(x) and f'(x),h=-f(x)/f'(x), x(k+1)=x+h=x(k)-f(x)/f'(x)\n",
    "\n",
    "f_x= lambda x: pow(x-2,2)+4*x-8\n",
    "\n",
    "#f_x_prime= lambda x: 2*(x-2)+4\n",
    "\n",
    "h0=1e-5\n",
    "f_x_prime= lambda x,h: (f_x(x+h)-f_x(x))/h\n",
    "\n",
    "def Newton_algorithm():\n",
    "    for x in range(4,0,-1):\n",
    "        print(f'x= {x}')\n",
    "        print(f'\\tk \\t\\t\\t x\\t\\t f_x(x) \\t\\tf_x_prime(x) \\t\\t\\th')\n",
    "        k=0\n",
    "        while True:\n",
    "\n",
    "            if f_x_prime(x,h0)==0:\n",
    "                print(f'\\nf\\'=0, no result will be computed')\n",
    "                break\n",
    "            h=-f_x(x)/f_x_prime(x,h0)\n",
    "            x1=x+h\n",
    "            print(f'\\t{k}\\t\\t {x:.5f}\\t\\t{f_x(x):5f}\\t\\t{f_x_prime(x,h0):.5f}\\t\\t\\t{(h):5f}')\n",
    "            err=abs(x1-x)/x1\n",
    "            if err<=1e-5:\n",
    "                break\n",
    "            k+=1\n",
    "            x=x1\n",
    "    return x\n",
    "\n",
    "\n",
    "cal1=Newton_algorithm()\n",
    "\n"
   ],
   "metadata": {
    "collapsed": false
   }
  },
  {
   "cell_type": "markdown",
   "source": [],
   "metadata": {
    "collapsed": false
   }
  },
  {
   "cell_type": "markdown",
   "source": [
    "Determine the solutions for Non-linear system by using Newton's method\n",
    "X1+2 x X2-2=0\n",
    "X1^2 +4 x X2^2-4=0\n",
    "Tolerance:1e-4\n",
    "Obtain K, [x1_k, x2_k] in each iteration in a tabular format"
   ],
   "metadata": {
    "collapsed": false
   }
  },
  {
   "cell_type": "code",
   "execution_count": 90,
   "outputs": [
    {
     "name": "stdout",
     "output_type": "stream",
     "text": [
      "k \t\t| [x1(k),x2(k)]\n",
      "--------------------------------------------------\n",
      "1\t\t| [-0.83340278  1.41670139]\n",
      "2\t\t| [-0.18942711  1.09471356]\n",
      "3\t\t| [-0.01508766  1.00754383]\n",
      "4\t\t| [-1.12495848e-04  1.00005625e+00]\n",
      "5\t\t| [-9.13879744e-09  1.00000000e+00]\n",
      "6\t\t| [-2.2849305e-13  1.0000000e+00]\n",
      "7\t\t| [2.07175752e-16 1.00000000e+00]\n"
     ]
    }
   ],
   "source": [
    "import pandas as pd\n",
    "\n",
    "\n",
    "def f(x):\n",
    "        x1,x2=x\n",
    "        return np.array([x1 + 2*x2 - 2, x1**2 + 4*x2**2 - 4])\n",
    "\n",
    "def J_table(x):\n",
    "    n = len(x)\n",
    "    J_matrix = np.zeros((n, n))\n",
    "    h0 = 1e-4\n",
    "\n",
    "    for i in range(n):\n",
    "        v=x.copy().astype(float)\n",
    "        v[i]+=h0\n",
    "        f_prime = (f(v) - f(x)) / h0 #dx/d\n",
    "        J_matrix[:, i] = f_prime\n",
    "\n",
    "    return J_matrix\n",
    "\n",
    "def Newton_system(x):\n",
    "    k=0\n",
    "    data=[]\n",
    "    print(f'k \\t\\t| [x1(k),x2(k)]')\n",
    "    print('-'*50)\n",
    "    while True:\n",
    "\n",
    "        s=np.linalg.inv(J_table(x))@(-1*f(x))\n",
    "        x1=x+s\n",
    "\n",
    "        err=np.linalg.norm((x1-x)/x1)\n",
    "        if err<1e-4:\n",
    "            break\n",
    "        x=x1\n",
    "        k+=1\n",
    "        data.append([k,x])\n",
    "        print(f'{k}\\t\\t| {x}')\n",
    "\n",
    "\n",
    "    return data\n",
    "\n",
    "x=np.array([1,2])\n",
    "n=len(x)\n",
    "\n",
    "\n",
    "cal2=Newton_system(x)\n",
    "\n",
    "df=pd.DataFrame(cal2,columns=['k','[x1(k),x2(k)]'])\n",
    "df.to_csv('Newton_system.csv',index=False)\n",
    "\n",
    "#THis is non-linear equation, it is not able to solve with linear"
   ],
   "metadata": {
    "collapsed": false
   }
  },
  {
   "cell_type": "code",
   "execution_count": null,
   "outputs": [],
   "source": [],
   "metadata": {
    "collapsed": false
   }
  }
 ],
 "metadata": {
  "kernelspec": {
   "display_name": "Python 3",
   "language": "python",
   "name": "python3"
  },
  "language_info": {
   "codemirror_mode": {
    "name": "ipython",
    "version": 2
   },
   "file_extension": ".py",
   "mimetype": "text/x-python",
   "name": "python",
   "nbconvert_exporter": "python",
   "pygments_lexer": "ipython2",
   "version": "2.7.6"
  }
 },
 "nbformat": 4,
 "nbformat_minor": 0
}
