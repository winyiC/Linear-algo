{
 "cells": [
  {
   "cell_type": "code",
   "execution_count": 24,
   "metadata": {
    "collapsed": true
   },
   "outputs": [
    {
     "name": "stdout",
     "output_type": "stream",
     "text": [
      "\n",
      "Start Point : [-1  1]\n",
      "\n",
      "k         |[x, y]                        |f(x,y)                        |g(x,y)                        \n",
      "1         | [ 0.5 -2. ]                   | 506.5                         |[-3  0]\n",
      "2         | [0.5011 0.2511]               | 0.2489                        |[ 449.00551003 -449.999     ]\n",
      "3         | [0.9984 0.7495]               | 6.1149                        |[-9.95537330e-01 -2.42629694e-04]\n",
      "4         | [0.9983 0.9967]               | 0.0                           |[ 98.75376397 -49.45574439]\n",
      "5         | [0.997 0.994]                 | 0.0                           |[ 2.67518870e-03 -2.05668538e-07]\n",
      "6         | [0.997 0.994]                 | 0.0                           |[ 0.00070122 -0.000357  ]\n",
      "\n",
      "Start Point : [0 1]\n",
      "\n",
      "k         |[x, y]                        |f(x,y)                        |g(x,y)                        \n",
      "1         | [-0.005  0.   ]               | 1.0101                        |[ -2 200]\n",
      "2         | [ 0.995 -0.01 ]               | 99.9914                       |[-2.01009086 -0.00405038]\n",
      "3         | [0.995  0.9899]               | 0.0                           |[ 397.95904667 -199.99037948]\n",
      "4         | [0.997 0.994]                 | 0.0                           |[-4.12798322e-03 -6.32155461e-09]\n",
      "5         | [0.997 0.994]                 | 0.0                           |[ 0.001712   -0.00085031]\n",
      "\n",
      "Start Point : [2 1]\n",
      "\n",
      "k         |[x, y]                        |f(x,y)                        |g(x,y)                        \n",
      "1         | [1.995 3.975]                 | 0.9926                        |[2402 -599]\n",
      "2         | [1.4938 1.9801]               | 6.5563                        |[ 6.01585739 -1.00398337]\n",
      "3         | [1.484  2.2022]               | 0.2343                        |[151.11879863 -50.24837867]\n",
      "4         | [1.0037 0.7768]               | 5.321                         |[ 1.0363089  -0.01903528]\n",
      "5         | [1.0036 1.0072]               | 0.0                           |[ 92.62547009 -46.13350647]\n",
      "6         | [0.997  0.9939]               | 0.0                           |[ 1.32253186e-02 -4.39612764e-06]\n",
      "7         | [0.997 0.994]                 | 0.0                           |[ 0.01732743 -0.00871639]\n"
     ]
    },
    {
     "name": "stderr",
     "output_type": "stream",
     "text": [
      "C:\\Users\\Mike_\\AppData\\Local\\Temp\\ipykernel_14920\\2200124312.py:52: RuntimeWarning: divide by zero encountered in divide\n",
      "  err=np.linalg.norm((x1-x)/x1)\n"
     ]
    },
    {
     "data": {
      "text/plain": "'\\nstarting=np.array([2,1])\\nresult = Newton_system(starting)\\n\\n'"
     },
     "execution_count": 24,
     "metadata": {},
     "output_type": "execute_result"
    }
   ],
   "source": [
    "\n",
    "import numpy as np\n",
    "\n",
    "\n",
    "def f(x):\n",
    "        x,y=x\n",
    "        return 100 * (y - x**2)**2 + (1 - x)**2\n",
    "\n",
    "def Gardient(x):\n",
    "    n=len(x)\n",
    "    G_Matrix = x.copy()\n",
    "\n",
    "    h0 = 1e-5\n",
    "\n",
    "    for i in range(n):\n",
    "        v1=x.copy().astype(float)\n",
    "\n",
    "        v1[i]+=h0\n",
    "        f_prime = (f(v1) - f(x)) / h0 #dx/d\n",
    "        G_Matrix[i]=f_prime\n",
    "\n",
    "\n",
    "\n",
    "\n",
    "    return G_Matrix\n",
    "\n",
    "def h_m(arr):\n",
    "    n=len(arr)\n",
    "    h_matrix=np.zeros((n,n))\n",
    "    x,y=arr\n",
    "    #print(x,y)\n",
    "\n",
    "    h_matrix[0,0]= -400*y+1200*pow(x,2)+2\n",
    "\n",
    "    h_matrix[0,1]= -400*x\n",
    "    h_matrix[1,0]= -400*x\n",
    "    h_matrix[1,1]= 200\n",
    "\n",
    "    return np.around(h_matrix,decimals=5)\n",
    "\n",
    "def Newton_system(x):\n",
    "    k=0\n",
    "    data=[]\n",
    "\n",
    "    while True:\n",
    "        f(x)\n",
    "        G_matrix=Gardient(x)\n",
    "        H_matrix=h_m(x)\n",
    "\n",
    "        s=np.linalg.inv(H_matrix)@(-1*G_matrix.T)\n",
    "        x1=x+s\n",
    "\n",
    "        err=np.linalg.norm((x1-x)/x1)\n",
    "        if err<1e-5:\n",
    "            break\n",
    "\n",
    "        x=x1\n",
    "        k+=1\n",
    "        data.append([k,np.around(x,decimals=4),np.around(f(x),decimals=4),G_matrix])\n",
    "\n",
    "\n",
    "    return data\n",
    "\n",
    "starting =np.array( [[-1, 1], [0, 1], [2,1]])\n",
    "\n",
    "for i in range(0,len(starting)):\n",
    "\n",
    "    print(f'\\nStart Point : {starting[i]}')\n",
    "    print('\\n{:<10}|{:<30}|{:<30}|{:<30}'.format('k', '[x, y]', 'f(x,y)', 'g(x,y)'))\n",
    "    result = Newton_system(starting[i])\n",
    "\n",
    "# Assuming result is a list of tuples with elements (k, v, fx, g_matrix)\n",
    "    [print(f\"{k:<10}| {str(v):<30}| {fx:<30}|{str(g_matrix)}\") for k, v, fx, g_matrix in result]\n",
    "\n",
    "\n",
    "'''\n",
    "starting=np.array([2,1])\n",
    "result = Newton_system(starting)\n",
    "\n",
    "'''\n",
    "\n",
    "\n",
    "\n",
    "\n",
    "\n",
    "#THis is non-linear equation, it is not able to solve with linear"
   ]
  },
  {
   "cell_type": "code",
   "execution_count": 16,
   "outputs": [],
   "source": [],
   "metadata": {
    "collapsed": false
   }
  }
 ],
 "metadata": {
  "kernelspec": {
   "display_name": "Python 3",
   "language": "python",
   "name": "python3"
  },
  "language_info": {
   "codemirror_mode": {
    "name": "ipython",
    "version": 2
   },
   "file_extension": ".py",
   "mimetype": "text/x-python",
   "name": "python",
   "nbconvert_exporter": "python",
   "pygments_lexer": "ipython2",
   "version": "2.7.6"
  }
 },
 "nbformat": 4,
 "nbformat_minor": 0
}
