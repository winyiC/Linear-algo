{
 "cells": [
  {
   "cell_type": "markdown",
   "source": [
    "Challenge Project 3:\n",
    "total borrow amount:\n",
    "    X=a*(1+r)**n\n",
    "yearly payment:\n",
    "    Y=p([(1+0.06)**n -1]/r)\n",
    "When it pays off the loan :X-Y=0\n",
    "\n",
    "a=100,000\n",
    "p=10,000\n",
    "r=0.06\n",
    "initial_guess=10\n",
    "\n",
    "Use Newton's method to predict How many year can pay off the loan"
   ],
   "metadata": {
    "collapsed": false
   }
  },
  {
   "cell_type": "code",
   "execution_count": 19,
   "outputs": [
    {
     "name": "stdout",
     "output_type": "stream",
     "text": [
      "x= 10\n",
      "\tk \t\t\t x\t\t\t\t X-Y \t\t\t\tf_x_prime(x) \t\t\th\n",
      "\t0\t\t 10.00000\t\t47276.820230\t\t\t-6956.71618\t\t\t6.795853\n",
      "\t1\t\t 16.79585\t\t-10728.724652\t\t\t-10336.63604\t\t\t-1.037932\n",
      "\t2\t\t 15.75792\t\t-317.989661\t\t\t-9730.01384\t\t\t-0.032681\n",
      "\t3\t\t 15.72524\t\t-0.302591\t\t\t-9711.50259\t\t\t-0.000031\n",
      "\t4\t\t 15.72521\t\t-0.000000\t\t\t-9711.48495\t\t\t-0.000000\n",
      "It will take approximate 16.0,When X-Y=0\n"
     ]
    }
   ],
   "source": [
    "import numpy as np\n",
    "import pandas as pd\n",
    "\n",
    "\n",
    "\n",
    "def NewtonA():\n",
    "    x=10\n",
    "    print(f'x= {x}')\n",
    "    print(f'\\tk \\t\\t\\t x\\t\\t\\t\\t X-Y \\t\\t\\t\\tf_x_prime(x) \\t\\t\\th')\n",
    "    k=0\n",
    "    while True:\n",
    "\n",
    "        if f_x_prime(x,h0)==0:\n",
    "            print(f'\\nf\\'=0, no result will be computed')\n",
    "            break\n",
    "        h=-f_x(x)/f_x_prime(x,h0)\n",
    "        x1=x+h\n",
    "        print(f'\\t{k}\\t\\t {x:.5f}\\t\\t{f_x(x):5f}\\t\\t\\t{f_x_prime(x,h0):.5f}\\t\\t\\t{(h):5f}')\n",
    "        err=abs(x1-x)/x1\n",
    "        if err<=1e-6:\n",
    "            break\n",
    "        k+=1\n",
    "        x=x1\n",
    "    return x,int(f_x(x))\n",
    "\n",
    "#get f(x) and f'(x),h=-f(x)/f'(x), x(k+1)=x+h=x(k)-f(x)/f'(x)\n",
    "#get x-y=0\n",
    "h0=1e-6\n",
    "f_x= lambda n: 100000*(1+0.06)**n-10000*(((1+0.06)**n-1)/0.06)\n",
    "f_x_prime= lambda n,h: (f_x(n+h)-f_x(n))/h\n",
    "n,X_Y=NewtonA()\n",
    "\n",
    "print(f'It will take approximate {np.around(n,decimals=0)},When X-Y={X_Y}')"
   ],
   "metadata": {
    "collapsed": false
   }
  },
  {
   "cell_type": "markdown",
   "source": [
    "Challenge 2: Bioremediation involves the use of bacteria to consume toxic waste. At steady state\n",
    "the bacterial density x and the nutrient concentration y satisfy the following system of nonlinear\n",
    "equations\n",
    "𝛾𝑥𝑦 − 𝑥(1 + 𝑦) = 0,\n",
    "−𝑥𝑦 + (𝛿 − 𝑦)(1 + 𝑦) = 0 (3)\n",
    "\n",
    "𝛾 = 5 and 𝛿 = 1.\n",
    "using Newton’s system method, assuming an initial value of x = 7 and y = 0.5.\n",
    "Define Newton’s method in the main program but use functions to calculate the jacobian, function evaluations, and the gauss elimination process to solve the  equation. Use 1e-6 for the convergence criterion.\n",
    "print the value of [x,y] and the value of each equation in the system, during every iteration, in a table"
   ],
   "metadata": {
    "collapsed": false
   }
  },
  {
   "cell_type": "code",
   "execution_count": 30,
   "outputs": [
    {
     "name": "stdout",
     "output_type": "stream",
     "text": [
      "k \t\t| [x(k),y(k)]\n",
      "--------------------------------------------------\n",
      "1\t\t| [3.50000058 0.37499998]\t\t\\| [[ 0.49999992 14.00000232]\n",
      " [-0.37499998 -4.25000154]]\n",
      "2\t\t| [3.85000051 0.23750001]\t\t\\| [[-0.04999997 15.40000203]\n",
      " [-0.23750001 -4.32500152]]\n",
      "3\t\t| [3.75123422 0.24967933]\t\t\\| [[-1.28267885e-03  1.50049369e+01]\n",
      " [-2.49679331e-01 -4.25059388e+00]]\n",
      "4\t\t| [3.75000062 0.24999989]\t\t\\| [[-4.22772928e-07  1.50000025e+01]\n",
      " [-2.49999895e-01 -4.25000141e+00]]\n",
      "solution is [3.75 0.25]\n"
     ]
    }
   ],
   "source": [
    "import pandas as pd\n",
    "\n",
    "\n",
    "def f(x):\n",
    "        x,y=x\n",
    "        return np.array([5*x*y-x*(1+y), -1*x*y+(1-y)*(1+y)])\n",
    "\n",
    "def J_table(x):\n",
    "    n = len(x)\n",
    "    J_matrix = np.zeros((n, n))\n",
    "    h0 = 1e-6\n",
    "\n",
    "    for i in range(n):\n",
    "        v=x.copy().astype(float)\n",
    "        v[i]+=h0\n",
    "        f_prime = (f(v) - f(x)) / h0 #dx/d\n",
    "        J_matrix[:, i] = f_prime\n",
    "\n",
    "    return J_matrix\n",
    "\n",
    "def NewtonB(x):\n",
    "    k=0\n",
    "    data=[]\n",
    "    print(f'k \\t\\t| [x(k),y(k)]')\n",
    "    print('-'*50)\n",
    "    while True:\n",
    "\n",
    "        s=np.linalg.inv(J_table(x))@(-1*f(x))\n",
    "        x1=x+s\n",
    "\n",
    "        err=np.linalg.norm((x1-x)/x1)\n",
    "        if err<=1e-6:\n",
    "            break\n",
    "        x=x1\n",
    "        k+=1\n",
    "\n",
    "        data.append([k,x,J_table(x)])\n",
    "        print(f'{k}\\t\\t| {x}\\t\\t\\| {J_table(x)}')\n",
    "\n",
    "\n",
    "    return data,x\n",
    "\n",
    "\n",
    "x=np.array([7,0.5])\n",
    "n=len(x)\n",
    "\n",
    "cal2,x=NewtonB(x)\n",
    "\n",
    "df=pd.DataFrame(cal2,columns=['k','[x(k),y(k)]','Jacobian'])\n",
    "df.to_csv('Newton_system.csv',index=False)\n",
    "\n",
    "print(f'solution is {np.around(x,decimals=2)}')"
   ],
   "metadata": {
    "collapsed": false
   }
  }
 ],
 "metadata": {
  "kernelspec": {
   "display_name": "Python 3",
   "language": "python",
   "name": "python3"
  },
  "language_info": {
   "codemirror_mode": {
    "name": "ipython",
    "version": 2
   },
   "file_extension": ".py",
   "mimetype": "text/x-python",
   "name": "python",
   "nbconvert_exporter": "python",
   "pygments_lexer": "ipython2",
   "version": "2.7.6"
  }
 },
 "nbformat": 4,
 "nbformat_minor": 0
}
